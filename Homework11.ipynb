{
 "cells": [
  {
   "cell_type": "markdown",
   "metadata": {},
   "source": [
    "互联网中充斥着大量钓鱼欺诈类网站。这类非法网站通常试图掩人耳目、充当正规网站，而实际上却是在窃取用户的身份、密码、交易等重要信息\n",
    "机器学习在信息安全领域中的一个重要应用就是用来识别这些钓鱼网站。fraudulent.csv在data文件夹中。\n",
    "\n",
    "fraudulent.csv文件中含有10,086条数据，每条数据含有18个特征以及1个标签。各个特征的含义如下：\n",
    "\n",
    "    contain_IP：网址中是否包涵ip，比如http://121.99.3.123/fake.html 包含ip。1表示包含，0表示不包含；\n",
    "    is_long：网址字符是否过长。1表示网址过长，0表示网址不长；\n",
    "    is_tinyurl：网址是否是短网址。比如https://bit.ly/2kXX6jV 就是短网址。1表示是短网址，0表示不是；\n",
    "    contain_at：网址是否包含“@”符号。1表示包含，0表示不包含；\n",
    "    contain_double_slash：网址是否包含“//”符号，该符号用来表示网址跳转。1表示包含，0表示不包含；\n",
    "    contain_dash：网址是否包含“-”符号，该符号经常帮助用来伪装真网站，比如www.my-taobao.com 。 1表示包含，0表示不包含；\n",
    "    contain_subdomain：网址是否包含子域名，比如www.ecnu.edu.cn 就包含edu和cn子域名。1表示包含，0表示不包含；\n",
    "    is_SSL：网址是否是https安全链接。1表示包含，0表示不包含；\n",
    "    with_long_history：网址所属的主域名存在的时间。1表示长久，0表示不长久；\n",
    "    contain_icon：网址网页是否有小图标。1表示包含，0表示不包含；\n",
    "    contain_ext_domain：该网页是否加载其他域名下的附件或者网页。1表示包含，0表示不包含；\n",
    "    contain_email_to：该网页是否包含发送邮件的组件。1表示包含，0表示不包含；\n",
    "    allow_right_click：该网页是否允许用户进行右击操作。1表示允许，0表示不允许；\n",
    "    contain_pop_up_windowL：该网页是否包含弹窗。1表示包含，0表示不包含；\n",
    "    contain_Iframe：该网页是否包含Iframe（嵌套网页）。1表示包含，0表示不包含；\n",
    "    has_DNSRecord：网址是否有DNS记录。1表示有，0表示无；\n",
    "    traffic：该网站的流量大小。1表示大，0表示小；\n",
    "    google_rank：该网址在google搜索中的排名。1表示高于同类网站的平均排名，0表示低于同类网站的平均排名；\n",
    "    \n",
    "    y：表示网站是否是钓鱼欺诈网站，1表示是，0表示不是。\n",
    "    原始数据中含有大量缺失值，请自行处理这些缺失值（可以剔除缺失值过多的列或者使用众数填充等方法）。\n",
    "\n",
    "将原始数据分为训练集、测试集（随机种子请设置为1）（若有需要可以将训练集进一步分为训练集和验证集）。\n",
    "\n",
    "现在请建立一个二分类模型，使用训练集训练模型，再使用测试集测试模型。\n",
    "\n",
    "评估指标为F1值\n",
    "\n",
    "分类模型可采用：k-近邻、决策树、逻辑回归、支持向量机等。\n",
    "\n",
    "可以与周围同学比较一下F1值的大小（越接近1越好），看看谁的数据预处理和分类模型更强。"
   ]
  },
  {
   "cell_type": "markdown",
   "metadata": {},
   "source": [
    "1. 数据加载与预处理"
   ]
  },
  {
   "cell_type": "code",
   "execution_count": null,
   "metadata": {
    "vscode": {
     "languageId": "plaintext"
    }
   },
   "outputs": [],
   "source": [
    "import pandas as pd\n",
    "\n",
    "# 加载数据\n",
    "data = pd.read_csv('data/fraudulent.csv')\n",
    "\n",
    "# 检查缺失值\n",
    "missing_data = data.isnull().sum()\n",
    "\n",
    "# 填充缺失值（这里使用众数填充）\n",
    "data_filled = data.apply(lambda x: x.fillna(x.mode()[0]), axis=0)\n"
   ]
  },
  {
   "cell_type": "markdown",
   "metadata": {},
   "source": [
    "2. 数据拆分"
   ]
  },
  {
   "cell_type": "code",
   "execution_count": null,
   "metadata": {
    "vscode": {
     "languageId": "plaintext"
    }
   },
   "outputs": [],
   "source": [
    "from sklearn.model_selection import train_test_split\n",
    "\n",
    "# 特征和标签\n",
    "X = data_filled.drop(columns=['y'])\n",
    "y = data_filled['y']\n",
    "\n",
    "# 划分训练集和测试集（80%训练集，20%测试集）\n",
    "X_train, X_test, y_train, y_test = train_test_split(X, y, test_size=0.2, random_state=1)\n"
   ]
  },
  {
   "cell_type": "markdown",
   "metadata": {},
   "source": [
    "3. 选择分类模型"
   ]
  },
  {
   "cell_type": "code",
   "execution_count": null,
   "metadata": {
    "vscode": {
     "languageId": "plaintext"
    }
   },
   "outputs": [],
   "source": [
    "from sklearn.linear_model import LogisticRegression\n",
    "from sklearn.metrics import f1_score\n",
    "\n",
    "# 初始化逻辑回归模型\n",
    "model = LogisticRegression(max_iter=1000)\n",
    "\n",
    "# 训练模型\n",
    "model.fit(X_train, y_train)\n",
    "\n",
    "# 预测测试集\n",
    "y_pred = model.predict(X_test)\n",
    "\n",
    "# 计算F1值\n",
    "f1 = f1_score(y_test, y_pred)\n",
    "\n",
    "print(f\"F1值: {f1:.4f}\")\n"
   ]
  },
  {
   "cell_type": "markdown",
   "metadata": {},
   "source": [
    "4. 尝试其他模型"
   ]
  },
  {
   "cell_type": "code",
   "execution_count": null,
   "metadata": {
    "vscode": {
     "languageId": "plaintext"
    }
   },
   "outputs": [],
   "source": [
    "from sklearn.neighbors import KNeighborsClassifier\n",
    "from sklearn.tree import DecisionTreeClassifier\n",
    "from sklearn.svm import SVC\n",
    "\n",
    "# K-近邻模型\n",
    "knn_model = KNeighborsClassifier()\n",
    "knn_model.fit(X_train, y_train)\n",
    "knn_pred = knn_model.predict(X_test)\n",
    "knn_f1 = f1_score(y_test, knn_pred)\n",
    "\n",
    "# 决策树模型\n",
    "dt_model = DecisionTreeClassifier(random_state=1)\n",
    "dt_model.fit(X_train, y_train)\n",
    "dt_pred = dt_model.predict(X_test)\n",
    "dt_f1 = f1_score(y_test, dt_pred)\n",
    "\n",
    "# 支持向量机模型\n",
    "svm_model = SVC()\n",
    "svm_model.fit(X_train, y_train)\n",
    "svm_pred = svm_model.predict(X_test)\n",
    "svm_f1 = f1_score(y_test, svm_pred)\n",
    "\n",
    "print(f\"K-近邻 F1值: {knn_f1:.4f}\")\n",
    "print(f\"决策树 F1值: {dt_f1:.4f}\")\n",
    "print(f\"支持向量机 F1值: {svm_f1:.4f}\")\n"
   ]
  }
 ],
 "metadata": {
  "language_info": {
   "name": "python"
  }
 },
 "nbformat": 4,
 "nbformat_minor": 2
}
