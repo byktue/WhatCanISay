{
 "cells": [
  {
   "cell_type": "markdown",
   "metadata": {},
   "source": [
    "# 机器学习基础操作线性模型"
   ]
  },
  {
   "cell_type": "markdown",
   "metadata": {},
   "source": [
    "在实验练习08中我们使用的数据为两个城市在不同因素影响下某小时共享单车租用的数量。现在我们利用该数据集构建一个回归预测模型，根据数据中的某些属性预测该时段内的单车租用数量，该表所有值均为整型数据，表结构为：\n",
    "\n",
    "id 记录编号，无其他意义\n",
    "\n",
    "city 城市代号，0为北京，1为上海\n",
    "\n",
    "hour 小时，代表时间\n",
    "\n",
    "is_workday 是否为工作日，0为否，1为是\n",
    "\n",
    "temp_air 大气温度，单位为摄氏度\n",
    "\n",
    "temp_body 体感温度，单位为摄氏度\n",
    "\n",
    "weather 天气代号，1为晴天，2为多云或阴天，3为雨天或雪天\n",
    "\n",
    "wind 风级，数值越大代表风速越大\n",
    "\n",
    "y 该小时内共享单车被租用的数量\n",
    "\n",
    "请完成以下任务"
   ]
  },
  {
   "cell_type": "markdown",
   "metadata": {},
   "source": [
    "1. 数据集已上传至data文件夹中，具体文件为bike.csv。请使用pandas库读取该文件。\n",
    "\n",
    "2. id属性对构建回归预测模型没有帮助，请剔除掉该列。\n",
    "\n",
    "3. 我们暂不考虑不同城市对单车租用的影响，请筛选出上海市的所有数据，然后剔除city列。\n",
    "\n",
    "4. 为简化数据，请将hour列中原来6点-18点统一为1；19点-次日5点统一为0。\n",
    "\n",
    "5. y列为单车租用数量，是我们的预测目标（标签），请将该列提取出来，并转换为一个numpy列向量，将原先的y列剔除。\n",
    "\n",
    "6. 请将DataFrame对象转换为Numpy数组，方便后续操作。\n",
    "\n",
    "7. 请按照训练集与测试集8:2的比例将原始数据集划分。\n",
    "\n",
    "8. 请分别对训练集数据、训练集标签、测试集数据和测试集标签进行归一化。\n",
    "\n",
    "9. 请先构建一个线性回归模型（多元一次函数），然后利用训练集训练模型。\n",
    "\n",
    "10. 利用测试集对训练好的模型进行评估。提示：使用predict(data_array)方法输入测试集，该函数返回值为模型预测值。\n",
    "\n",
    "11. 模型评估：请使用均方根误差（RMSE）作为评估指标，并输出RMSE值。"
   ]
  },
  {
   "cell_type": "markdown",
   "metadata": {},
   "source": [
    "# 利用K近邻算法学习鸢尾花数据集\n"
   ]
  },
  {
   "cell_type": "markdown",
   "metadata": {},
   "source": [
    "K近邻（K-Nearest Neighbors，简称KNN）算法是一种基本的分类和回归方法，也是监督学习中最简单、直观的方法之一。\n",
    "\n",
    "该算法基于一个简单的思想：如果一个样本在特征空间中的k个最近邻居中的大多数属于某个类别，则该样本也属于这个类别。\n",
    "\n",
    "利用鸢尾花数据集进行实验，鸢尾花数据集可以通过sklearn库导入\n",
    "\n",
    "1. 加载数据，划分鸢尾花数据集，训练集比例0.2，随机种子42\n",
    "2. 以花萼长度为横轴，花萼宽度为纵轴绘制数据的散点图\n",
    "3. 对鸢尾花数据的特征进行PCA降维，并且可视化降维后的结果，x轴为主成分1，y轴为主成分2\n",
    "4. 以K=3训练分类器\n",
    "5. 在测试集上进行测试，最后输出分类准确率"
   ]
  },
  {
   "cell_type": "code",
   "execution_count": 9,
   "metadata": {},
   "outputs": [
    {
     "name": "stdout",
     "output_type": "stream",
     "text": [
      "RMSE: 31.56847863511329\n"
     ]
    }
   ],
   "source": [
    "import pandas as pd\n",
    "\n",
    "# 读取CSV文件\n",
    "data = pd.read_csv('bike.csv')\n",
    "\n",
    "# 剔除id列\n",
    "data = data.drop(columns=['id'])\n",
    "\n",
    "# 筛选出上海市的数据 (city == 1)\n",
    "shanghai_data = data[data['city'] == 1]\n",
    "\n",
    "# 剔除city列\n",
    "shanghai_data = shanghai_data.drop(columns=['city'])\n",
    "\n",
    "# 将6点-18点统一为1，19点-次日5点统一为0\n",
    "shanghai_data['hour'] = shanghai_data['hour'].apply(lambda x: 1 if 6 <= x <= 18 else 0)\n",
    "\n",
    "import numpy as np\n",
    "\n",
    "# 提取y列\n",
    "y = shanghai_data['y'].values.reshape(-1, 1)\n",
    "\n",
    "# 剔除y列\n",
    "features = shanghai_data.drop(columns=['y'])\n",
    "\n",
    "# 转换为Numpy数组\n",
    "X = features.values\n",
    "\n",
    "from sklearn.model_selection import train_test_split\n",
    "\n",
    "# 划分数据集\n",
    "X_train, X_test, y_train, y_test = train_test_split(X, y, test_size=0.2, random_state=42)\n",
    "\n",
    "from sklearn.preprocessing import MinMaxScaler\n",
    "\n",
    "# 初始化归一化器\n",
    "scaler = MinMaxScaler()\n",
    "\n",
    "# 对训练集和测试集进行归一化\n",
    "X_train_scaled = scaler.fit_transform(X_train)\n",
    "X_test_scaled = scaler.transform(X_test)\n",
    "y_train_scaled = scaler.fit_transform(y_train)  # 通常标签也需要归一化，但这里只是为了演示\n",
    "y_test_scaled = scaler.transform(y_test)        # 实际应用中，可能仅对特征归一化\n",
    "\n",
    "from sklearn.linear_model import LinearRegression\n",
    "\n",
    "# 构建线性回归模型\n",
    "model = LinearRegression()\n",
    "\n",
    "# 训练模型\n",
    "model.fit(X_train_scaled, y_train.ravel())  # 注意：ravel()将y_train转换为一维数组\n",
    "\n",
    "# 进行预测\n",
    "y_pred = model.predict(X_test_scaled)\n",
    "\n",
    "from sklearn.metrics import mean_squared_error\n",
    "\n",
    "# 计算RMSE\n",
    "rmse = np.sqrt(mean_squared_error(y_test, y_pred))\n",
    "\n",
    "# 输出RMSE值\n",
    "print(f\"RMSE: {rmse}\")"
   ]
  }
 ],
 "metadata": {
  "kernelspec": {
   "display_name": "Python 3",
   "language": "python",
   "name": "python3"
  },
  "language_info": {
   "codemirror_mode": {
    "name": "ipython",
    "version": 3
   },
   "file_extension": ".py",
   "mimetype": "text/x-python",
   "name": "python",
   "nbconvert_exporter": "python",
   "pygments_lexer": "ipython3",
   "version": "3.12.3"
  }
 },
 "nbformat": 4,
 "nbformat_minor": 2
}
