{
 "cells": [
  {
   "cell_type": "markdown",
   "metadata": {},
   "source": [
    "0. 所有的题目结果中，给出SQL语句和执行结果。"
   ]
  },
  {
   "cell_type": "markdown",
   "metadata": {},
   "source": [
    "1. 在新数据库中新建一张 user 表,插入几条数据,属性包含:唯一标识(id),姓名(name)性别(sex).年龄(age).联系方式(phone)，数据如下：\n",
    "\n",
    "    ('John Doe', 'Male', 25, '123-456-7890')\n",
    "\n",
    "    ('Jane Smith', 'Female', 31, '987-654-3210')\n",
    "    \n",
    "    ('Bob Johnson', 'Male', 22, '555-123-4567')"
   ]
  },
  {
   "cell_type": "code",
   "execution_count": 1,
   "metadata": {},
   "outputs": [
    {
     "name": "stdout",
     "output_type": "stream",
     "text": [
      "数据已成功写入 output.txt\n"
     ]
    }
   ],
   "source": [
    "import sqlite3\n",
    "\n",
    "# 创建数据库连接\n",
    "conn = sqlite3.connect('example.db')  # 数据库文件名\n",
    "cursor = conn.cursor()\n",
    "\n",
    "# 创建 user 表\n",
    "cursor.execute('''\n",
    "CREATE TABLE IF NOT EXISTS user (\n",
    "    id INTEGER PRIMARY KEY AUTOINCREMENT,\n",
    "    name TEXT,\n",
    "    sex TEXT CHECK(sex IN ('Male', 'Female')),\n",
    "    age INTEGER,\n",
    "    phone TEXT\n",
    ")\n",
    "''')\n",
    "\n",
    "# 插入数据\n",
    "users = [\n",
    "    ('John Doe', 'Male', 25, '123-456-7890'),\n",
    "    ('Jane Smith', 'Female', 31, '987-654-3210'),\n",
    "    ('Bob Johnson', 'Male', 22, '555-123-4567')\n",
    "]\n",
    "\n",
    "cursor.executemany('INSERT INTO user (name, sex, age, phone) VALUES (?, ?, ?, ?)', users)\n",
    "\n",
    "# 提交更改\n",
    "conn.commit()\n",
    "\n",
    "# 查询并获取所有数据\n",
    "cursor.execute('SELECT * FROM user')\n",
    "rows = cursor.fetchall()\n",
    "\n",
    "# 将结果写入到 TXT 文件\n",
    "with open('output.txt', 'w') as f:\n",
    "    for row in rows:\n",
    "        f.write(f'{row}\\n')\n",
    "\n",
    "# 打印确认信息\n",
    "print('数据已成功写入 output.txt')\n",
    "\n",
    "# 关闭连接\n",
    "conn.close()"
   ]
  },
  {
   "cell_type": "markdown",
   "metadata": {},
   "source": [
    "2. 写出 SQL语句,查询 user 表中所有年龄在 20-30 范围内的用户"
   ]
  },
  {
   "cell_type": "code",
   "execution_count": 2,
   "metadata": {},
   "outputs": [
    {
     "name": "stdout",
     "output_type": "stream",
     "text": [
      "年龄在 20 到 30 范围内的用户:\n",
      "(30, 'John Doe', 'Male', 25, '123-456-7890')\n",
      "(32, 'Bob Johnson', 'Male', 22, '555-123-4567')\n"
     ]
    }
   ],
   "source": [
    "import sqlite3\n",
    "\n",
    "# 创建数据库连接\n",
    "conn = sqlite3.connect('example.db')  # 数据库文件名\n",
    "cursor = conn.cursor()\n",
    "\n",
    "# 查询年龄在 20 到 30 范围内的用户\n",
    "cursor.execute('SELECT * FROM user WHERE age BETWEEN 20 AND 30')\n",
    "rows = cursor.fetchall()\n",
    "\n",
    "# 打印查询结果\n",
    "if rows:\n",
    "    print(\"年龄在 20 到 30 范围内的用户:\")\n",
    "    for row in rows:\n",
    "        print(row)\n",
    "else:\n",
    "    print(\"没有找到符合条件的用户。\")\n",
    "\n",
    "# 关闭连接\n",
    "conn.close()"
   ]
  },
  {
   "cell_type": "markdown",
   "metadata": {},
   "source": [
    "3. 写出SQL语句，向user表中添加自己的个人信息，并添加几条和你姓名同姓的虚拟信息。"
   ]
  },
  {
   "cell_type": "code",
   "execution_count": 3,
   "metadata": {},
   "outputs": [
    {
     "name": "stdout",
     "output_type": "stream",
     "text": [
      "当前用户表中的所有用户:\n",
      "(30, 'John Doe', 'Male', 25, '123-456-7890')\n",
      "(31, 'Jane Smith', 'Female', 31, '987-654-3210')\n",
      "(32, 'Bob Johnson', 'Male', 22, '555-123-4567')\n",
      "(33, 'Alex Smith', 'Male', 28, '123-987-6543')\n",
      "(34, 'Alice Smith', 'Female', 30, '234-567-8901')\n",
      "(35, 'Aaron Smith', 'Male', 27, '345-678-9012')\n",
      "(36, 'Angela Smith', 'Female', 24, '456-789-0123')\n"
     ]
    }
   ],
   "source": [
    "import sqlite3\n",
    "\n",
    "# 创建数据库连接\n",
    "conn = sqlite3.connect('example.db')  # 数据库文件名\n",
    "cursor = conn.cursor()\n",
    "\n",
    "# 插入个人信息\n",
    "cursor.execute('''\n",
    "INSERT INTO user (name, sex, age, phone) VALUES (?, ?, ?, ?)\n",
    "''', ('Alex Smith', 'Male', 28, '123-987-6543'))\n",
    "\n",
    "# 插入与姓名同姓的虚拟用户信息\n",
    "virtual_users = [\n",
    "    ('Alice Smith', 'Female', 30, '234-567-8901'),\n",
    "    ('Aaron Smith', 'Male', 27, '345-678-9012'),\n",
    "    ('Angela Smith', 'Female', 24, '456-789-0123')\n",
    "]\n",
    "\n",
    "cursor.executemany('''\n",
    "INSERT INTO user (name, sex, age, phone) VALUES (?, ?, ?, ?)\n",
    "''', virtual_users)\n",
    "\n",
    "# 提交更改\n",
    "conn.commit()\n",
    "\n",
    "# 查询并打印所有数据，以确认插入成功\n",
    "cursor.execute('SELECT * FROM user')\n",
    "rows = cursor.fetchall()\n",
    "\n",
    "# 打印结果\n",
    "print(\"当前用户表中的所有用户:\")\n",
    "for row in rows:\n",
    "    print(row)\n",
    "\n",
    "# 关闭连接\n",
    "conn.close()"
   ]
  },
  {
   "cell_type": "markdown",
   "metadata": {},
   "source": [
    "4. 写出 SQL语句,查询 user 表中年龄在 20-30 范围内,名字包含“你的姓氏”的用户,并按照年龄从大到小排序输出"
   ]
  },
  {
   "cell_type": "code",
   "execution_count": 4,
   "metadata": {},
   "outputs": [
    {
     "name": "stdout",
     "output_type": "stream",
     "text": [
      "年龄在 20 到 30 范围内且名字包含 'Smith' 的用户:\n",
      "(34, 'Alice Smith', 'Female', 30, '234-567-8901')\n",
      "(33, 'Alex Smith', 'Male', 28, '123-987-6543')\n",
      "(35, 'Aaron Smith', 'Male', 27, '345-678-9012')\n",
      "(36, 'Angela Smith', 'Female', 24, '456-789-0123')\n"
     ]
    }
   ],
   "source": [
    "import sqlite3\n",
    "\n",
    "# 创建数据库连接\n",
    "conn = sqlite3.connect('example.db')  # 数据库文件名\n",
    "cursor = conn.cursor()\n",
    "\n",
    "# 查询年龄在 20 到 30 范围内且名字包含“Smith”的用户\n",
    "surname = 'Smith'\n",
    "query = '''\n",
    "SELECT * FROM user\n",
    "WHERE age BETWEEN 20 AND 30 AND name LIKE ?\n",
    "ORDER BY age DESC\n",
    "'''\n",
    "\n",
    "# 执行查询\n",
    "cursor.execute(query, ('%' + surname + '%',))\n",
    "rows = cursor.fetchall()\n",
    "\n",
    "# 打印查询结果\n",
    "if rows:\n",
    "    print(f\"年龄在 20 到 30 范围内且名字包含 '{surname}' 的用户:\")\n",
    "    for row in rows:\n",
    "        print(row)\n",
    "else:\n",
    "    print(f\"没有找到符合条件的用户。\")\n",
    "\n",
    "# 关闭连接\n",
    "conn.close()"
   ]
  },
  {
   "cell_type": "markdown",
   "metadata": {},
   "source": [
    "5. 写出 SQL 语句,计算 user 表中所有用户的平均年龄"
   ]
  },
  {
   "cell_type": "code",
   "execution_count": 5,
   "metadata": {},
   "outputs": [
    {
     "name": "stdout",
     "output_type": "stream",
     "text": [
      "所有用户的平均年龄: 26.71\n"
     ]
    }
   ],
   "source": [
    "import sqlite3\n",
    "\n",
    "# 创建数据库连接\n",
    "conn = sqlite3.connect('example.db')  # 数据库文件名\n",
    "cursor = conn.cursor()\n",
    "\n",
    "# 查询所有用户的平均年龄\n",
    "cursor.execute('SELECT AVG(age) AS average_age FROM user')\n",
    "average_age = cursor.fetchone()[0]\n",
    "\n",
    "# 打印平均年龄\n",
    "if average_age is not None:\n",
    "    print(f\"所有用户的平均年龄: {average_age:.2f}\")\n",
    "else:\n",
    "    print(\"没有找到用户信息。\")\n",
    "\n",
    "# 关闭连接\n",
    "conn.close()"
   ]
  },
  {
   "cell_type": "markdown",
   "metadata": {},
   "source": [
    "6. 新建两张表team 表(id,teamName)和score 表(id,teamid,userid,score)。其中score 表中的 teamid 为指向 team表id 的外键，userid 为指向 user表id的外键"
   ]
  },
  {
   "cell_type": "code",
   "execution_count": 6,
   "metadata": {},
   "outputs": [
    {
     "name": "stdout",
     "output_type": "stream",
     "text": [
      "team 表和 score 表已成功创建。\n"
     ]
    }
   ],
   "source": [
    "import sqlite3\n",
    "\n",
    "# 创建数据库连接\n",
    "conn = sqlite3.connect('example.db')  # 数据库文件名\n",
    "cursor = conn.cursor()\n",
    "\n",
    "# 创建 team 表\n",
    "cursor.execute('''\n",
    "CREATE TABLE IF NOT EXISTS team (\n",
    "    id INTEGER PRIMARY KEY AUTOINCREMENT,\n",
    "    teamName VARCHAR(100) NOT NULL\n",
    ")\n",
    "''')\n",
    "\n",
    "# 创建 score 表\n",
    "cursor.execute('''\n",
    "CREATE TABLE IF NOT EXISTS score (\n",
    "    id INTEGER PRIMARY KEY AUTOINCREMENT,\n",
    "    teamid INTEGER,\n",
    "    userid INTEGER,\n",
    "    score INTEGER,\n",
    "    FOREIGN KEY (teamid) REFERENCES team(id),\n",
    "    FOREIGN KEY (userid) REFERENCES user(id)\n",
    ")\n",
    "''')\n",
    "\n",
    "# 提交更改\n",
    "conn.commit()\n",
    "\n",
    "# 打印成功信息\n",
    "print(\"team 表和 score 表已成功创建。\")\n",
    "\n",
    "# 关闭连接\n",
    "conn.close()"
   ]
  },
  {
   "cell_type": "markdown",
   "metadata": {},
   "source": [
    "7. 在team表中和score表中插入合适的记录，写出 SQL语句,查询 teamName 为“ECNU”的队伍中，年龄小于 20 的用户们，结果不得为空。"
   ]
  },
  {
   "cell_type": "code",
   "execution_count": 7,
   "metadata": {},
   "outputs": [
    {
     "name": "stdout",
     "output_type": "stream",
     "text": [
      "没有找到符合条件的用户。\n"
     ]
    }
   ],
   "source": [
    "import sqlite3\n",
    "\n",
    "# 创建数据库连接\n",
    "conn = sqlite3.connect('example.db')\n",
    "cursor = conn.cursor()\n",
    "\n",
    "# 插入团队记录\n",
    "cursor.execute(\"INSERT INTO team (teamName) VALUES ('ECNU')\")\n",
    "cursor.execute(\"INSERT INTO team (teamName) VALUES ('Team A')\")\n",
    "cursor.execute(\"INSERT INTO team (teamName) VALUES ('Team B')\")\n",
    "\n",
    "# 假设用户 ID 1 和 ID 3 年龄小于 20\n",
    "# 插入分数记录\n",
    "cursor.execute(\"INSERT INTO score (teamid, userid, score) VALUES (1, 1, 80)\")  # User ID 1\n",
    "cursor.execute(\"INSERT INTO score (teamid, userid, score) VALUES (1, 2, 90)\")  # User ID 2\n",
    "cursor.execute(\"INSERT INTO score (teamid, userid, score) VALUES (2, 1, 70)\")\n",
    "cursor.execute(\"INSERT INTO score (teamid, userid, score) VALUES (2, 3, 85)\")  # User ID 3\n",
    "\n",
    "# 提交插入的记录\n",
    "conn.commit()\n",
    "\n",
    "# 查询年龄小于 20 的用户\n",
    "cursor.execute('''\n",
    "SELECT u.*\n",
    "FROM user u\n",
    "JOIN score s ON u.id = s.userid\n",
    "JOIN team t ON s.teamid = t.id\n",
    "WHERE t.teamName = 'ECNU' AND u.age < 20\n",
    "''')\n",
    "\n",
    "# 获取查询结果\n",
    "rows = cursor.fetchall()\n",
    "\n",
    "# 打印结果\n",
    "if rows:\n",
    "    print(\"团队名称为 'ECNU' 中，年龄小于 20 的用户:\")\n",
    "    for row in rows:\n",
    "        print(row)\n",
    "else:\n",
    "    print(\"没有找到符合条件的用户。\")\n",
    "\n",
    "# 关闭连接\n",
    "conn.close()"
   ]
  },
  {
   "cell_type": "markdown",
   "metadata": {},
   "source": [
    "8. 写出 SQL 语句,计算 teamName为“ECNU”的总分(假设 score 存在 null值,nul值默认为 0 加入计算)。"
   ]
  },
  {
   "cell_type": "code",
   "execution_count": 8,
   "metadata": {},
   "outputs": [
    {
     "name": "stdout",
     "output_type": "stream",
     "text": [
      "团队名称为 'ECNU' 的总分: 510\n"
     ]
    }
   ],
   "source": [
    "import sqlite3\n",
    "\n",
    "# 创建数据库连接\n",
    "conn = sqlite3.connect('example.db')\n",
    "cursor = conn.cursor()\n",
    "\n",
    "# 计算 teamName 为 \"ECNU\" 的总分\n",
    "cursor.execute('''\n",
    "SELECT SUM(COALESCE(s.score, 0)) AS total_score\n",
    "FROM score s\n",
    "JOIN team t ON s.teamid = t.id\n",
    "WHERE t.teamName = 'ECNU'\n",
    "''')\n",
    "\n",
    "# 获取查询结果\n",
    "total_score = cursor.fetchone()[0]\n",
    "\n",
    "# 打印总分\n",
    "if total_score is not None:\n",
    "    print(f\"团队名称为 'ECNU' 的总分: {total_score}\")\n",
    "else:\n",
    "    print(\"没有找到符合条件的记录。\")\n",
    "\n",
    "# 关闭连接\n",
    "conn.close()"
   ]
  },
  {
   "cell_type": "markdown",
   "metadata": {},
   "source": [
    "9. 写出SQL语句，删除user表中个人信息的记录。"
   ]
  },
  {
   "cell_type": "code",
   "execution_count": 9,
   "metadata": {},
   "outputs": [
    {
     "name": "stdout",
     "output_type": "stream",
     "text": [
      "user 表中的所有个人信息记录已成功删除。\n"
     ]
    }
   ],
   "source": [
    "import sqlite3\n",
    "\n",
    "# 创建数据库连接\n",
    "conn = sqlite3.connect('example.db')\n",
    "cursor = conn.cursor()\n",
    "\n",
    "# 删除 user 表中的所有记录\n",
    "cursor.execute('DELETE FROM user')\n",
    "\n",
    "# 提交更改\n",
    "conn.commit()\n",
    "\n",
    "# 打印成功信息\n",
    "print(\"user 表中的所有个人信息记录已成功删除。\")\n",
    "\n",
    "# 关闭连接\n",
    "conn.close()"
   ]
  }
 ],
 "metadata": {
  "kernelspec": {
   "display_name": "Python 3",
   "language": "python",
   "name": "python3"
  },
  "language_info": {
   "codemirror_mode": {
    "name": "ipython",
    "version": 3
   },
   "file_extension": ".py",
   "mimetype": "text/x-python",
   "name": "python",
   "nbconvert_exporter": "python",
   "pygments_lexer": "ipython3",
   "version": "3.12.3"
  }
 },
 "nbformat": 4,
 "nbformat_minor": 2
}
