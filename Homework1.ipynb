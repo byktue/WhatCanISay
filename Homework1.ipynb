{
 "cells": [
  {
   "cell_type": "markdown",
   "metadata": {},
   "source": [
    "1. 编写Python程序，打印\"数据科学与工程导论\"，并使用 print(chr(0x2605)) 语句将这句话包围起来。"
   ]
  },
  {
   "cell_type": "code",
   "execution_count": null,
   "metadata": {},
   "outputs": [],
   "source": [
    "print((chr(0x2605) +  \" \")*11)\n",
    "print(chr(0x2605) + \" 数据科学与工程导论\" + chr(0x2605))\n",
    "print((chr(0x2605) +  \" \")*11)"
   ]
  },
  {
   "cell_type": "markdown",
   "metadata": {},
   "source": [
    "2. 写一个 Python 程序，输入 x, y, z 这三个数，将这三个数从小到大使用 print 函数打印出来。"
   ]
  },
  {
   "cell_type": "code",
   "execution_count": null,
   "metadata": {},
   "outputs": [],
   "source": [
    "numbers = input(\"请依次输入x,y,z,用空格分开：\").split()          \n",
    "numbers.sort()\n",
    "print(\"从小到大：\" , numbers)"
   ]
  },
  {
   "cell_type": "markdown",
   "metadata": {},
   "source": [
    "3. 写一个 Python 程序，有 w, x, y, z 四个数，将这四个数从大到小使用 print 函数打印出来。"
   ]
  },
  {
   "cell_type": "code",
   "execution_count": null,
   "metadata": {},
   "outputs": [],
   "source": [
    "numbers = input(\"请依次输入w,x,y,z,用空格分开：\").split()          \n",
    "numbers.sort()\n",
    "print(\"从小到大：\" , numbers)"
   ]
  },
  {
   "cell_type": "markdown",
   "metadata": {},
   "source": [
    "4. 写一个 Python 程序，输出 1-100 中的所有奇数。"
   ]
  },
  {
   "cell_type": "code",
   "execution_count": null,
   "metadata": {},
   "outputs": [],
   "source": [
    "for i in range(1,101):\n",
    "    if i%2 != 0:\n",
    "        print(i,end = ' ')"
   ]
  },
  {
   "cell_type": "markdown",
   "metadata": {},
   "source": [
    "5. 写一个 Python 程序，用 for 循环，求解 1 到 100 的和。"
   ]
  },
  {
   "cell_type": "markdown",
   "metadata": {},
   "source": [
    "sum = 0\n",
    "for i in range(1,101):\n",
    "    sum += i \n",
    "print(sum)"
   ]
  },
  {
   "cell_type": "markdown",
   "metadata": {},
   "source": [
    "6. 写一个 Python 程序，分别用 for 和 while 循环实现对一个给定序列的倒排序输出。例如，给定 L=[1,2,3,4,5]，输出为 [5,4,3,2,1]。"
   ]
  },
  {
   "cell_type": "code",
   "execution_count": null,
   "metadata": {},
   "outputs": [],
   "source": [
    "#for\n",
    "numbers = input(\"请输入数据，用空格分隔：\").split()\n",
    "numbers = [int(num) for num in numbers]\n",
    "for i in range(0,len(numbers)):\n",
    "    print(numbers[len(numbers) - 1 - i] , end = ' ')\n",
    "    i += 1"
   ]
  },
  {
   "cell_type": "code",
   "execution_count": null,
   "metadata": {},
   "outputs": [],
   "source": [
    "#while\n",
    "numbers = input(\"请输入数据，用空格分隔：\").split()\n",
    "numbers = [int(num) for num in numbers]\n",
    "\n",
    "i = 0\n",
    "while i < len(numbers):\n",
    "    print(numbers[len(numbers) - 1 - i] , end = ' ')\n",
    "    i += 1"
   ]
  },
  {
   "cell_type": "markdown",
   "metadata": {},
   "source": [
    "7. 写一个 Python 程序，判断一个输入的字符串 S 是否包含由两个或两个以上连续出现的相同字符组成的字符串。例如，abccccda 中就包含 cccc 这个由 4 个连续字符组成的字符串。"
   ]
  },
  {
   "cell_type": "code",
   "execution_count": null,
   "metadata": {},
   "outputs": [],
   "source": [
    "import re \n",
    "S = input(\"输入字符串：\")\n",
    "if re.search(r'(.)\\1{1,}',S):\n",
    "    print(\"字符串包含连续相同字符。\")\n",
    "else:\n",
    "    print(\"字符串不包含连续相同字符。\")"
   ]
  },
  {
   "cell_type": "markdown",
   "metadata": {},
   "source": [
    "8. 写一个 Python 程序，输入一个字符串 S，去掉其中所有的空格后输出。例如，“DataScience and Engineering”，去掉空格后为“DataScienceandEngineering”。"
   ]
  },
  {
   "cell_type": "code",
   "execution_count": null,
   "metadata": {},
   "outputs": [],
   "source": [
    "S = input(\"输入字符串：\").replace(' ','')\n",
    "print(S)"
   ]
  },
  {
   "cell_type": "markdown",
   "metadata": {},
   "source": [
    "9. 请设计一个求 3 次方根的算法（不允许直接调用求方根的函数），并给出对应的 Python 程序。\n",
    "采用牛顿迭代法求解，迭代过程数学公式表示为：\n",
    "$ x_{n+1}=x_n-\\frac{f(x_n)}{f^{\\prime}(x_n)}$"
   ]
  },
  {
   "cell_type": "code",
   "execution_count": null,
   "metadata": {},
   "outputs": [],
   "source": [
    "def cube_root_newton(a, tolerance=1e-7, max_iterations=1000):\n",
    "    # 选择初始猜测值\n",
    "    x = a if a >= 1 else 1.0\n",
    "    \n",
    "    for i in range(max_iterations):\n",
    "        # 计算当前误差\n",
    "        prev_x = x\n",
    "        x = (2 * x + a / (x**2)) / 3\n",
    "        \n",
    "        # 如果误差小于容忍度则停止迭代\n",
    "        if abs(x - prev_x) < tolerance:\n",
    "            break\n",
    "    \n",
    "    return x\n",
    "\n",
    "# 测试\n",
    "a = int(input(\"请输入数：\"))\n",
    "result = cube_root_newton(a)\n",
    "print(result)"
   ]
  },
  {
   "cell_type": "markdown",
   "metadata": {},
   "source": [
    "10. 写一个 Python 程序，给定一个常数 n（n>0），求 n 的阶乘，即 n!=1×2×...×(n-1)×n。例如，4!=24，5!=120。"
   ]
  },
  {
   "cell_type": "code",
   "execution_count": null,
   "metadata": {},
   "outputs": [],
   "source": [
    "n = int (input(\"输入一个常数：\"))\n",
    "s = 1\n",
    "for i in range(1,n+1):\n",
    "    s *= i\n",
    "print(s)"
   ]
  }
 ],
 "metadata": {
  "language_info": {
   "name": "python"
  }
 },
 "nbformat": 4,
 "nbformat_minor": 2
}
