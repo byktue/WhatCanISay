{
 "cells": [
  {
   "cell_type": "markdown",
   "metadata": {},
   "source": [
    "1.编写 Python程序,判断输入a是否为质数"
   ]
  },
  {
   "cell_type": "code",
   "execution_count": null,
   "metadata": {},
   "outputs": [],
   "source": [
    "def check(x):\n",
    "    if x <= 1:\n",
    "        return 0\n",
    "    for i in range(2 , int (n**0.5) + 1):\n",
    "        if x % i == 0:\n",
    "            return 0\n",
    "    return 1\n",
    "\n",
    "a = int( input(\"输入：\"))\n",
    "\n",
    "if check(a):\n",
    "    print(\"是质数\")\n",
    "else:\n",
    "    print(\"不是质数\")"
   ]
  },
  {
   "cell_type": "markdown",
   "metadata": {},
   "source": [
    "2.用Python实现插入排序该算法，不允许直接调用插入排序函数，需要手动实现其逻辑过程。"
   ]
  },
  {
   "cell_type": "code",
   "execution_count": null,
   "metadata": {},
   "outputs": [],
   "source": [
    "def insertion_sort(x):\n",
    "    for i in range(1,len(x)):\n",
    "        key = x[i]\n",
    "        j = i - 1\n",
    "        while j >= 0 and x[j] > key:\n",
    "            x[j + 1] = x[j]\n",
    "            j -= 1\n",
    "        x[j + 1] = key\n",
    "\n",
    "arr = input(\"输入数组：\")\n",
    "arr = list(map(int , arr.split))\n",
    "insertion_sort(arr)\n",
    "print(\"排序后的数组：\",arr)"
   ]
  },
  {
   "cell_type": "markdown",
   "metadata": {},
   "source": [
    "3.用Python实现选择排序该算法，不允许直接调用插入排序函数，需要手动实现其逻辑过程。"
   ]
  },
  {
   "cell_type": "code",
   "execution_count": null,
   "metadata": {},
   "outputs": [],
   "source": [
    "def selection_sort(arr):\n",
    "    for i in range(len(arr)):\n",
    "        min_i = i\n",
    "        for j in range(i + 1, len(arr)):\n",
    "            if arr[j] < arr[min_i]:\n",
    "                min_i = j \n",
    "        arr[i], arr[min_i] =arr[min_i],arr[i]\n",
    "    \n",
    "arr = input(\"输入：\")\n",
    "arr = list(map(int,arr.split()))\n",
    "selection_sort(arr)\n",
    "print(\"排序后：\",arr)"
   ]
  },
  {
   "cell_type": "markdown",
   "metadata": {},
   "source": [
    "4.用Python实现快速排序该算法，不允许直接调用插入排序函数，需要手动实现其逻辑过程。"
   ]
  },
  {
   "cell_type": "code",
   "execution_count": null,
   "metadata": {},
   "outputs": [],
   "source": [
    "def quick_sort(arr):\n",
    "    if len(arr) <= 1:\n",
    "        return arr\n",
    "    pivot = arr[-1]\n",
    "    left = []\n",
    "    right = []\n",
    "    for i in range(len(arr) -1):\n",
    "        if arr[i] < pivot:\n",
    "            left.append(arr[i])\n",
    "        else:\n",
    "            right.append(arr[i])\n",
    "    return quick_sort(left) + [pivot] + quick_sort(right)\n",
    "\n",
    "arr = input(\"输入数组：\")\n",
    "arr = list(map(int , arr.split()))\n",
    "\n",
    "arr = quick_sort(arr)\n",
    "print(\"排序得：\",arr)\n"
   ]
  },
  {
   "cell_type": "markdown",
   "metadata": {},
   "source": [
    "5.使用 Python 随机生成三组长度递增的随机数列，长度分别为100、1000、10000，对生成的随机数组使用不同的排序算法，例如选择排序和归并排序，至少三种排序方法。对这些数列的数据排序，并分析不同排序算法在不同长度数列下的运行效果，例如运行时间等指标。"
   ]
  },
  {
   "cell_type": "code",
   "execution_count": null,
   "metadata": {},
   "outputs": [],
   "source": [
    "import random \n",
    "import time\n",
    "\n",
    "def generate(l):\n",
    "    return [random.randint(0,10000) for _ in range(l)]\n",
    "\n",
    "def test(arr):\n",
    "    start_t = time.time()\n",
    "    sorted_arr = sorted(arr)\n",
    "    end_t = time.time()\n",
    "    return sorted_arr, end_t - start_t\n",
    "\n",
    "lengths = [100,1000,10000]\n",
    "for length in lengths:\n",
    "    print(f\"\\n长度为{length} 的随机数列：\")\n",
    "    random_arr = generate(length)\n",
    "    sorted_arr, run_time = test(random_arr)\n",
    "    print(f\"内置排序函数{sorted}耗时：{run_time:.6f} 秒\")"
   ]
  },
  {
   "cell_type": "markdown",
   "metadata": {},
   "source": [
    "6.使用python代码获取当前系统时间"
   ]
  },
  {
   "cell_type": "code",
   "execution_count": null,
   "metadata": {},
   "outputs": [],
   "source": [
    "from datetime import datetime\n",
    "current_time = datetime.now()\n",
    "formatted_time = current_time.strftime(\"%Y - %m %d %H ： %M： %S\")\n",
    "print(\"当前系统时间：\",formatted_time)"
   ]
  },
  {
   "cell_type": "markdown",
   "metadata": {},
   "source": [
    "7.homework/data文件夹下的stuGrade.csv文件中包含5位同学的学号、语文成绩、数学成绩和英语成绩，请先用记事本打开该文件，查看文件内容，然后编写Python程序，读取该文件，并计算出各科的平均成绩（保留2位小数）。"
   ]
  },
  {
   "cell_type": "code",
   "execution_count": null,
   "metadata": {},
   "outputs": [],
   "source": [
    "import csv\n",
    "\n",
    "def calculate_average_scores(file_path):\n",
    "    total_chinese, total_math, total_english, count = 0, 0, 0, 0\n",
    "\n",
    "    with open(file_path, newline='', encoding='utf-8') as csvfile:\n",
    "        reader = csv.DictReader(csvfile)\n",
    "        for row in reader:\n",
    "            total_chinese += float(row['语文成绩'])\n",
    "            total_math += float(row['数学成绩'])\n",
    "            total_english += float(row['英语成绩'])\n",
    "            count += 1\n",
    "\n",
    "    return (\n",
    "        round(total_chinese / count, 2) if count else 0,\n",
    "        round(total_math / count, 2) if count else 0,\n",
    "        round(total_english / count, 2) if count else 0,\n",
    "    )\n",
    "\n",
    "if __name__ == \"__main__\":\n",
    "    file_path = 'homework/data/stuGrade.csv'  # 文件路径\n",
    "    averages = calculate_average_scores(file_path)\n",
    "    \n",
    "    print(f\"语文平均成绩: {averages[0]}\")\n",
    "    print(f\"数学平均成绩: {averages[1]}\")\n",
    "    print(f\"英语平均成绩: {averages[2]}\")\n"
   ]
  },
  {
   "cell_type": "markdown",
   "metadata": {},
   "source": [
    "8.请在第7题的代码继续编写Python程序，将以下内容写入my.txt文件中，一并上传到github中。"
   ]
  }
 ],
 "metadata": {
  "language_info": {
   "name": "python"
  }
 },
 "nbformat": 4,
 "nbformat_minor": 2
}
